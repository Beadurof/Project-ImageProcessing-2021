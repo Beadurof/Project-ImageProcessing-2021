{
  "nbformat": 4,
  "nbformat_minor": 0,
  "metadata": {
    "colab": {
      "name": "ImageColorization.ipynb",
      "provenance": []
    },
    "kernelspec": {
      "name": "python3",
      "display_name": "Python 3"
    },
    "language_info": {
      "name": "python"
    },
    "accelerator": "GPU"
  },
  "cells": [
    {
      "cell_type": "code",
      "metadata": {
        "colab": {
          "base_uri": "https://localhost:8080/"
        },
        "id": "ROvdYNbzzKo6",
        "outputId": "a9faca2c-4ba9-4390-c86d-7c176a5a51f3"
      },
      "source": [
        "# Primeiro carregue as imagens compactadas no notebook do collab\n",
        "# Autorize o Collab a acessar seus arquivos no drive\n",
        "from google.colab import drive\n",
        "drive.mount('/content/drive')"
      ],
      "execution_count": 33,
      "outputs": [
        {
          "output_type": "stream",
          "text": [
            "Drive already mounted at /content/drive; to attempt to forcibly remount, call drive.mount(\"/content/drive\", force_remount=True).\n"
          ],
          "name": "stdout"
        }
      ]
    },
    {
      "cell_type": "code",
      "metadata": {
        "id": "tDPY0e9FrRBK"
      },
      "source": [
        "import numpy as np\n",
        "import os\n",
        "\n",
        "# Imports for neural network\n",
        "from keras.layers import Conv2D, UpSampling2D, InputLayer, Conv2DTranspose\n",
        "from keras.layers import Activation, Dense, Dropout, Flatten\n",
        "from keras.layers.normalization import BatchNormalization\n",
        "from keras.models import Sequential\n",
        "from keras.preprocessing.image import ImageDataGenerator, array_to_img, img_to_array, load_img\n",
        "from sklearn.model_selection import train_test_split\n",
        "import tensorflow as tf\n",
        "\n",
        "# Imports for image processing\n",
        "from skimage.color import rgb2lab, lab2rgb, rgb2gray, xyz2lab\n",
        "import imageio\n",
        "import cv2"
      ],
      "execution_count": 34,
      "outputs": []
    },
    {
      "cell_type": "markdown",
      "metadata": {
        "id": "pMVlKowWZ0Q9"
      },
      "source": [
        "# Leitura do Dataset e Pré-processamento das Imagens"
      ]
    },
    {
      "cell_type": "code",
      "metadata": {
        "id": "8ODG6Etw_pNC"
      },
      "source": [
        "imagePath = '/content/drive/MyDrive/dataset/landscape Images/color/'\n",
        "X = []\n",
        "Y = []\n",
        "\n",
        "i=0\n",
        "for filename in os.listdir(imagePath):\n",
        "    i = i + 1\n",
        "\n",
        "    image = imageio.imread(imagePath+filename)\n",
        "    # Alterando dimensao da imagem\n",
        "    image = cv2.resize(image, dsize=(256, 256), interpolation=cv2.INTER_CUBIC)\n",
        "    image = np.array(img_to_array(image), dtype=float)\n",
        "\n",
        "    # Conversao de espaço de cores para Lab\n",
        "    # X contem canal L e Y os canais de cor a e b\n",
        "    varX = rgb2lab(1.0/255*image)[:,:,0]\n",
        "    varX = varX.reshape(1, 256, 256, 1)\n",
        "    varY = rgb2lab(1.0/255*image)[:,:,1:]\n",
        "    varY /= 128\n",
        "    varY = varY.reshape(1, 256, 256, 2)\n",
        "\n",
        "    X.append(varX)\n",
        "    Y.append(varY)\n",
        "\n",
        "    if i >= 1000:\n",
        "        break\n",
        "\n",
        "X_train, X_test, y_train, y_test = train_test_split(X, Y, test_size=0.5, random_state=1)\n",
        "\n",
        "X_train = np.array(X_train)\n",
        "y_train = np.array(y_train)\n",
        "X_train = np.array(X_test)\n",
        "y_train = np.array(y_test)"
      ],
      "execution_count": null,
      "outputs": []
    },
    {
      "cell_type": "markdown",
      "metadata": {
        "id": "wy0GgxeJa6DI"
      },
      "source": [
        "# Definição e treinamento do Modelo de Redes Neurais"
      ]
    },
    {
      "cell_type": "code",
      "metadata": {
        "id": "-6RPdheKtuEj"
      },
      "source": [
        "# Definição do Modelo\n",
        "model = Sequential()\n",
        "model.add(InputLayer(input_shape=(256, 256, 1)))\n",
        "model.add(Conv2D(8, (3, 3), activation='relu', padding='same', strides=2))\n",
        "model.add(Conv2D(8, (3, 3), activation='relu', padding='same'))\n",
        "model.add(Conv2D(16, (3, 3), activation='relu', padding='same'))\n",
        "model.add(Conv2D(16, (3, 3), activation='relu', padding='same', strides=2))\n",
        "model.add(Conv2D(32, (3, 3), activation='relu', padding='same'))\n",
        "model.add(Conv2D(32, (3, 3), activation='relu', padding='same', strides=2))\n",
        "model.add(UpSampling2D((2, 2)))\n",
        "model.add(Conv2D(32, (3, 3), activation='relu', padding='same'))\n",
        "model.add(UpSampling2D((2, 2)))\n",
        "model.add(Conv2D(16, (3, 3), activation='relu', padding='same'))\n",
        "model.add(UpSampling2D((2, 2)))\n",
        "model.add(Conv2D(2, (3, 3), activation='tanh', padding='same'))\n",
        "\n",
        "model.compile(optimizer='rmsprop',loss='mse')"
      ],
      "execution_count": null,
      "outputs": []
    },
    {
      "cell_type": "code",
      "metadata": {
        "id": "j9NIz5fCGGOp"
      },
      "source": [
        "# Treinamento do Modelo\n",
        "def GenerateInputs(X_,y_):\n",
        "    for i in range(len(X_)):\n",
        "        X_input = X_[i].reshape(1,256,256,1)\n",
        "        y_input = y_[i].reshape(1,256,256,2)\n",
        "        yield (X_input,y_input)\n",
        "\n",
        "model.fit_generator(GenerateInputs(X_train, y_train), epochs=50)"
      ],
      "execution_count": null,
      "outputs": []
    },
    {
      "cell_type": "markdown",
      "metadata": {
        "id": "mXArcgembn5L"
      },
      "source": [
        "# Colorização das Imagens"
      ]
    },
    {
      "cell_type": "code",
      "metadata": {
        "id": "wKjMlniGtyx4"
      },
      "source": [
        "# Colorização\n",
        "image_for_test = X_test[4]\n",
        "output = model.predict(image_for_test)\n",
        "output *= 128\n",
        "\n",
        "# Junção de Canais de Cor com Luminosidade\n",
        "coloredImage = np.zeros((256, 256, 3))\n",
        "coloredImage[:,:,0] = image_for_test[0][:,:,0]\n",
        "coloredImage[:,:,1:] = output[0]\n",
        "coloredImage = lab2rgb(coloredImage)"
      ],
      "execution_count": null,
      "outputs": []
    },
    {
      "cell_type": "code",
      "metadata": {
        "id": "_XxgLmUfyMwS"
      },
      "source": [
        "from matplotlib import pyplot as plt\n",
        "plt.imshow(coloredImage)"
      ],
      "execution_count": null,
      "outputs": []
    }
  ]
}